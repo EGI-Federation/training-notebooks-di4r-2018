{
 "cells": [
  {
   "cell_type": "markdown",
   "metadata": {},
   "source": [
    "# Interacting with the infrastructure with your own credentials\n",
    "\n",
    "This code shows how to get a valid access token to interact \n",
    "with Check-in integrated services. \n",
    "\n",
    "**Beware the API for refreshing tokens is still under development \n",
    "and may change in the future**\n",
    "\n",
    "In this example we use the token to get our own information from\n",
    "Check-in"
   ]
  },
  {
   "cell_type": "code",
   "execution_count": 1,
   "metadata": {},
   "outputs": [
    {
     "name": "stdout",
     "output_type": "stream",
     "text": [
      "Got an check-in access token: eyJraWQiOi...\n"
     ]
    }
   ],
   "source": [
    "import requests\n",
    "import os\n",
    "\n",
    "\n",
    "api_url = os.environ.get('JUPYTERHUB_API_URL')\n",
    "token = os.environ.get('JUPYTERHUB_API_TOKEN')\n",
    "\n",
    "r = requests.get(api_url + '/refresh',\n",
    "    headers={\n",
    "             'Authorization': 'token %s' % token,\n",
    "            }\n",
    "    )\n",
    "\n",
    "checkin_token = r.json()['access_token']\n",
    "\n",
    "print(\"Got an check-in access token: %s...\" % checkin_token[:10])"
   ]
  },
  {
   "cell_type": "code",
   "execution_count": 2,
   "metadata": {},
   "outputs": [
    {
     "name": "stdout",
     "output_type": "stream",
     "text": [
      "My user info:\n",
      "Name: Enol Fernández del Castillo\n",
      "email: enol.fernandez@egi.eu\n"
     ]
    }
   ],
   "source": [
    "userinfo_url = 'https://aai.egi.eu/oidc/userinfo'\n",
    "\n",
    "r = requests.get(userinfo_url, \n",
    "    headers={'Authorization': 'Bearer %s' % checkin_token})\n",
    "\n",
    "userinfo = r.json()\n",
    "\n",
    "print(\"My user info:\")\n",
    "print(\"Name: %s\" % userinfo['name'])\n",
    "print(\"email: %s\" % userinfo['email'])"
   ]
  },
  {
   "cell_type": "code",
   "execution_count": null,
   "metadata": {},
   "outputs": [],
   "source": []
  }
 ],
 "metadata": {
  "kernelspec": {
   "display_name": "Python 3",
   "language": "python",
   "name": "python3"
  },
  "language_info": {
   "codemirror_mode": {
    "name": "ipython",
    "version": 3
   },
   "file_extension": ".py",
   "mimetype": "text/x-python",
   "name": "python",
   "nbconvert_exporter": "python",
   "pygments_lexer": "ipython3",
   "version": "3.6.5"
  }
 },
 "nbformat": 4,
 "nbformat_minor": 2
}
